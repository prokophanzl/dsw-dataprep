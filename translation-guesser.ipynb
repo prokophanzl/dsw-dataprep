{
 "cells": [
  {
   "cell_type": "code",
   "execution_count": null,
   "id": "95ab6f1b",
   "metadata": {},
   "outputs": [],
   "source": [
    "import numpy as np\n",
    "import pandas as pd\n",
    "import os\n",
    "import json\n",
    "\n",
    "csv = input(\"CSV name (no extension): \")\n",
    "\n",
    "data = pd.read_csv(f\"{csv}.csv\")\n",
    "f = open(f\"words_parsed/{csv}Dialect.json\")\n",
    "a = open(f\"words_parsed/allDialect.json\")\n",
    "ref = json.load(f)\n",
    "all_data = json.load(a)\n",
    "\n",
    "data['de'] = \"\"\n",
    "translated = 0\n",
    "\n",
    "for i, item in enumerate(data['gsw']):\n",
    "    for dictionary in ref:\n",
    "        if dictionary.get(\"src\") == str(item).lower().strip():\n",
    "            data.at[i, 'de'] = dictionary.get(\"target\")[0]['translation']\n",
    "            break\n",
    "    if not data.at[i, 'de'] == \"\":\n",
    "        translated += 1\n",
    "    \n",
    "    for dictionary in all_data:\n",
    "        if dictionary.get(\"src\") == str(item).lower().strip():\n",
    "            data.at[i, 'de'] = dictionary.get(\"target\")[0]['translation']\n",
    "            break\n",
    "        \n",
    "            \n",
    "data = data[['de', 'gsw']]\n",
    "\n",
    "data.to_csv(f\"{csv}_parsed.csv\", na_rep = '', index = False)\n",
    "\n",
    "print(f'Translated {translated} of {len(data[\"gsw\"])}')"
   ]
  }
 ],
 "metadata": {
  "kernelspec": {
   "display_name": "Python 3 (ipykernel)",
   "language": "python",
   "name": "python3"
  },
  "language_info": {
   "codemirror_mode": {
    "name": "ipython",
    "version": 3
   },
   "file_extension": ".py",
   "mimetype": "text/x-python",
   "name": "python",
   "nbconvert_exporter": "python",
   "pygments_lexer": "ipython3",
   "version": "3.11.2"
  }
 },
 "nbformat": 4,
 "nbformat_minor": 5
}
