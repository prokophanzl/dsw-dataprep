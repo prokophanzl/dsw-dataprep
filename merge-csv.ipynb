{
 "cells": [
  {
   "cell_type": "code",
   "execution_count": null,
   "id": "0a5b4335",
   "metadata": {},
   "outputs": [],
   "source": [
    "import pandas as pd\n",
    "\n",
    "csv1 = input(\"first CSV name (no extension): \")\n",
    "csv2 = input(\"second CSV name (no extension): \")\n",
    "\n",
    "data1 = pd.read_csv(f\"{csv1}.csv\")\n",
    "data2 = pd.read_csv(f\"{csv2}.csv\")\n",
    "\n",
    "pd.concat([data1, data2]).to_csv(f\"{csv1}_{csv2}.csv\", na_rep = '', index = False)"
   ]
  }
 ],
 "metadata": {
  "kernelspec": {
   "display_name": "Python 3 (ipykernel)",
   "language": "python",
   "name": "python3"
  },
  "language_info": {
   "codemirror_mode": {
    "name": "ipython",
    "version": 3
   },
   "file_extension": ".py",
   "mimetype": "text/x-python",
   "name": "python",
   "nbconvert_exporter": "python",
   "pygments_lexer": "ipython3",
   "version": "3.11.2"
  }
 },
 "nbformat": 4,
 "nbformat_minor": 5
}
